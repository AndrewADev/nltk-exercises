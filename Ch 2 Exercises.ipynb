{
 "cells": [
  {
   "cell_type": "markdown",
   "metadata": {},
   "source": [
    "### Exercise 1)"
   ]
  },
  {
   "cell_type": "code",
   "execution_count": 1,
   "metadata": {},
   "outputs": [],
   "source": [
    "phrase = ['This', 'sentence', 'contains', 'words']"
   ]
  },
  {
   "cell_type": "code",
   "execution_count": 3,
   "metadata": {},
   "outputs": [
    {
     "data": {
      "text/plain": [
       "['This', 'sentence', 'contains', 'words', 'and', 'now', 'more', 'words']"
      ]
     },
     "execution_count": 3,
     "metadata": {},
     "output_type": "execute_result"
    }
   ],
   "source": [
    "phrase + ['and', 'now', 'more', 'words']"
   ]
  },
  {
   "cell_type": "code",
   "execution_count": 4,
   "metadata": {},
   "outputs": [
    {
     "data": {
      "text/plain": [
       "['This',\n",
       " 'sentence',\n",
       " 'contains',\n",
       " 'words',\n",
       " 'This',\n",
       " 'sentence',\n",
       " 'contains',\n",
       " 'words',\n",
       " 'This',\n",
       " 'sentence',\n",
       " 'contains',\n",
       " 'words']"
      ]
     },
     "execution_count": 4,
     "metadata": {},
     "output_type": "execute_result"
    }
   ],
   "source": [
    "phrase * 3"
   ]
  },
  {
   "cell_type": "code",
   "execution_count": 5,
   "metadata": {},
   "outputs": [
    {
     "data": {
      "text/plain": [
       "'This'"
      ]
     },
     "execution_count": 5,
     "metadata": {},
     "output_type": "execute_result"
    }
   ],
   "source": [
    "phrase[0]"
   ]
  },
  {
   "cell_type": "code",
   "execution_count": 6,
   "metadata": {},
   "outputs": [
    {
     "data": {
      "text/plain": [
       "'words'"
      ]
     },
     "execution_count": 6,
     "metadata": {},
     "output_type": "execute_result"
    }
   ],
   "source": [
    "phrase[-1]"
   ]
  },
  {
   "cell_type": "code",
   "execution_count": 8,
   "metadata": {},
   "outputs": [
    {
     "data": {
      "text/plain": [
       "['This', 'sentence']"
      ]
     },
     "execution_count": 8,
     "metadata": {},
     "output_type": "execute_result"
    }
   ],
   "source": [
    "phrase[:2]"
   ]
  },
  {
   "cell_type": "code",
   "execution_count": 9,
   "metadata": {},
   "outputs": [
    {
     "data": {
      "text/plain": [
       "['sentence', 'contains']"
      ]
     },
     "execution_count": 9,
     "metadata": {},
     "output_type": "execute_result"
    }
   ],
   "source": [
    "phrase[1:3]"
   ]
  },
  {
   "cell_type": "code",
   "execution_count": 10,
   "metadata": {},
   "outputs": [
    {
     "data": {
      "text/plain": [
       "['This', 'contains', 'sentence', 'words']"
      ]
     },
     "execution_count": 10,
     "metadata": {},
     "output_type": "execute_result"
    }
   ],
   "source": [
    "sorted(phrase)"
   ]
  },
  {
   "cell_type": "markdown",
   "metadata": {},
   "source": [
    "### Exercise 2)"
   ]
  },
  {
   "cell_type": "code",
   "execution_count": 13,
   "metadata": {},
   "outputs": [],
   "source": [
    "from nltk.corpus import gutenberg"
   ]
  },
  {
   "cell_type": "code",
   "execution_count": 16,
   "metadata": {},
   "outputs": [
    {
     "data": {
      "text/plain": [
       "98171"
      ]
     },
     "execution_count": 16,
     "metadata": {},
     "output_type": "execute_result"
    }
   ],
   "source": [
    "persuasion_words = gutenberg.words('austen-persuasion.txt')\n",
    "len(persuasion_words)"
   ]
  },
  {
   "cell_type": "code",
   "execution_count": 25,
   "metadata": {},
   "outputs": [],
   "source": [
    "# TODO: How many word types?\n",
    "# from nltk.corpus import TaggedCorpusReader\n",
    "# pers = TaggedCorpusReader(None,'austen-persuasion.txt')"
   ]
  },
  {
   "cell_type": "markdown",
   "metadata": {},
   "source": [
    "### Exercise 3)"
   ]
  },
  {
   "cell_type": "code",
   "execution_count": 27,
   "metadata": {},
   "outputs": [],
   "source": [
    "from nltk.corpus import brown"
   ]
  },
  {
   "cell_type": "code",
   "execution_count": 28,
   "metadata": {},
   "outputs": [
    {
     "data": {
      "text/plain": [
       "['adventure',\n",
       " 'belles_lettres',\n",
       " 'editorial',\n",
       " 'fiction',\n",
       " 'government',\n",
       " 'hobbies',\n",
       " 'humor',\n",
       " 'learned',\n",
       " 'lore',\n",
       " 'mystery',\n",
       " 'news',\n",
       " 'religion',\n",
       " 'reviews',\n",
       " 'romance',\n",
       " 'science_fiction']"
      ]
     },
     "execution_count": 28,
     "metadata": {},
     "output_type": "execute_result"
    }
   ],
   "source": [
    "brown.categories()"
   ]
  },
  {
   "cell_type": "code",
   "execution_count": 29,
   "metadata": {},
   "outputs": [
    {
     "data": {
      "text/plain": [
       "['In', 'American', 'romance', ',', 'almost', 'nothing', ...]"
      ]
     },
     "execution_count": 29,
     "metadata": {},
     "output_type": "execute_result"
    }
   ],
   "source": [
    "brown.words(categories=['lore','science_fiction'])"
   ]
  },
  {
   "cell_type": "code",
   "execution_count": 32,
   "metadata": {},
   "outputs": [
    {
     "name": "stdout",
     "output_type": "stream",
     "text": [
      "cf01 cf02 cf03 cf04 cf05 cf06 cf07 cf08 cf09 cf10 cf11 cf12 cf13 cf14 cf15 cf16 cf17 cf18 \n",
      "cf19 cf20 cf21 cf22 cf23 cf24 cf25 cf26 cf27 cf28 cf29 cf30 cf31 cf32 cf33 cf34 cf35 cf36 cf37 cf38 \n",
      "cf39 cf40 cf41 cf42 cf43 cf44 cf45 cf46 cf47 cf48 \n",
      "cm01 cm02 cm03 cm04 cm05 cm06 "
     ]
    }
   ],
   "source": [
    "for fileid in brown.fileids(categories=['lore','science_fiction']):\n",
    "    if (fileid in ('cf19', 'cf39', 'cm01')):\n",
    "        print()\n",
    "    print(fileid, end = ' ')"
   ]
  },
  {
   "cell_type": "code",
   "execution_count": 38,
   "metadata": {},
   "outputs": [
    {
     "name": "stdout",
     "output_type": "stream",
     "text": [
      "In general , religious interest seems to exist in all parts of the metropolis ; ; congregational membership , however , is another thing . A congregation survives only if it can sustain a socially homogeneous membership ; ; that is , when it can preserve economic integration . Religious faith can be considered a necessary condition of membership in a congregation , since the decision to join a worshiping group requires some motive force , but faith is not a sufficient condition for joining ; ; "
     ]
    }
   ],
   "source": [
    "for sent in brown.sents(fileids='cf44')[:5]:\n",
    "    print(\" \".join(sent), end=' ')"
   ]
  },
  {
   "cell_type": "code",
   "execution_count": 40,
   "metadata": {},
   "outputs": [
    {
     "name": "stdout",
     "output_type": "stream",
     "text": [
      "She lived and was given a name . Helva . For her first three vegetable months she waved her crabbed claws , kicked weakly with her clubbed feet and enjoyed the usual routine of the infant . She was not alone for there were three other such children in the big city's special nursery . Soon they all were removed to Central Laboratory School where their delicate transformation began . One of the babies died in the initial transferral but of Helva's `` class '' , seventeen thrived in the metal shells . Instead of kicking feet , Helva's neural responses started her wheels ; ; instead of grabbing with hands , she manipulated mechanical extensions . As she matured , more and more neural synapses would be adjusted to operate other mechanisms that went into the maintenance and running of a space ship . For Helva was destined to be the `` brain '' half of a scout ship , partnered with a man or a woman , whichever she chose , as the mobile half . "
     ]
    }
   ],
   "source": [
    "for sent in brown.sents(fileids='cm05')[:10]:\n",
    "    print(\" \".join(sent), end=' ')"
   ]
  },
  {
   "cell_type": "code",
   "execution_count": 41,
   "metadata": {},
   "outputs": [],
   "source": [
    "from nltk.corpus import webtext"
   ]
  },
  {
   "cell_type": "code",
   "execution_count": 44,
   "metadata": {},
   "outputs": [
    {
     "data": {
      "text/plain": [
       "['firefox.txt',\n",
       " 'grail.txt',\n",
       " 'overheard.txt',\n",
       " 'pirates.txt',\n",
       " 'singles.txt',\n",
       " 'wine.txt']"
      ]
     },
     "execution_count": 44,
     "metadata": {},
     "output_type": "execute_result"
    }
   ],
   "source": [
    "webtext.fileids()"
   ]
  },
  {
   "cell_type": "code",
   "execution_count": 46,
   "metadata": {},
   "outputs": [
    {
     "data": {
      "text/plain": [
       "['Cookie',\n",
       " 'Manager',\n",
       " ':',\n",
       " '\"',\n",
       " 'Don',\n",
       " \"'\",\n",
       " 't',\n",
       " 'allow',\n",
       " 'sites',\n",
       " 'that',\n",
       " 'set',\n",
       " 'removed',\n",
       " 'cookies',\n",
       " 'to',\n",
       " 'set',\n",
       " 'future',\n",
       " 'cookies',\n",
       " '\"',\n",
       " 'should',\n",
       " 'stay',\n",
       " 'checked',\n",
       " 'When',\n",
       " 'in',\n",
       " 'full',\n",
       " 'screen']"
      ]
     },
     "execution_count": 46,
     "metadata": {},
     "output_type": "execute_result"
    }
   ],
   "source": [
    "webtext.words(fileids=['firefox.txt'])[:25]"
   ]
  },
  {
   "cell_type": "markdown",
   "metadata": {},
   "source": [
    "### Exercise 4)"
   ]
  },
  {
   "cell_type": "code",
   "execution_count": null,
   "metadata": {},
   "outputs": [],
   "source": []
  },
  {
   "cell_type": "markdown",
   "metadata": {},
   "source": [
    "### Exercise 5)"
   ]
  },
  {
   "cell_type": "code",
   "execution_count": null,
   "metadata": {},
   "outputs": [],
   "source": []
  },
  {
   "cell_type": "markdown",
   "metadata": {},
   "source": [
    "### Exercise 6)"
   ]
  },
  {
   "cell_type": "code",
   "execution_count": null,
   "metadata": {},
   "outputs": [],
   "source": []
  },
  {
   "cell_type": "markdown",
   "metadata": {},
   "source": [
    "### Exercise 7)"
   ]
  },
  {
   "cell_type": "code",
   "execution_count": null,
   "metadata": {},
   "outputs": [],
   "source": []
  },
  {
   "cell_type": "markdown",
   "metadata": {},
   "source": [
    "### Exercise 8)"
   ]
  },
  {
   "cell_type": "code",
   "execution_count": null,
   "metadata": {},
   "outputs": [],
   "source": []
  },
  {
   "cell_type": "markdown",
   "metadata": {},
   "source": [
    "### Exercise 9)"
   ]
  },
  {
   "cell_type": "code",
   "execution_count": null,
   "metadata": {},
   "outputs": [],
   "source": []
  },
  {
   "cell_type": "markdown",
   "metadata": {},
   "source": [
    "### Exercise 10)"
   ]
  },
  {
   "cell_type": "code",
   "execution_count": null,
   "metadata": {},
   "outputs": [],
   "source": []
  },
  {
   "cell_type": "markdown",
   "metadata": {},
   "source": [
    "### Exercise 11)"
   ]
  },
  {
   "cell_type": "code",
   "execution_count": null,
   "metadata": {},
   "outputs": [],
   "source": []
  },
  {
   "cell_type": "markdown",
   "metadata": {},
   "source": [
    "### Exercise 12)"
   ]
  },
  {
   "cell_type": "code",
   "execution_count": null,
   "metadata": {},
   "outputs": [],
   "source": []
  },
  {
   "cell_type": "markdown",
   "metadata": {},
   "source": [
    "### Exercise 13)"
   ]
  },
  {
   "cell_type": "code",
   "execution_count": null,
   "metadata": {},
   "outputs": [],
   "source": []
  },
  {
   "cell_type": "markdown",
   "metadata": {},
   "source": [
    "### Exercise 14)"
   ]
  },
  {
   "cell_type": "code",
   "execution_count": null,
   "metadata": {},
   "outputs": [],
   "source": []
  },
  {
   "cell_type": "markdown",
   "metadata": {},
   "source": [
    "### Exercise 15)"
   ]
  },
  {
   "cell_type": "code",
   "execution_count": 50,
   "metadata": {},
   "outputs": [],
   "source": [
    "from nltk.corpus import brown\n",
    "from nltk import FreqDist"
   ]
  },
  {
   "cell_type": "code",
   "execution_count": null,
   "metadata": {},
   "outputs": [],
   "source": [
    "def brown_corpus_words_by_min_count(count):\n",
    "    normalized = [word.lower() for word in brown.words() if word.isalpha()]\n",
    "    dist = FreqDist(normalized)\n",
    "    semi_freq = [word for word in dist if dist[word] >= count]\n",
    "    return semi_freq"
   ]
  },
  {
   "cell_type": "code",
   "execution_count": 67,
   "metadata": {},
   "outputs": [
    {
     "data": {
      "text/plain": [
       "['the',\n",
       " 'fulton',\n",
       " 'county',\n",
       " 'grand',\n",
       " 'jury',\n",
       " 'said',\n",
       " 'friday',\n",
       " 'an',\n",
       " 'investigation',\n",
       " 'of',\n",
       " 'recent',\n",
       " 'primary',\n",
       " 'election',\n",
       " 'produced',\n",
       " 'no',\n",
       " 'evidence',\n",
       " 'that',\n",
       " 'any',\n",
       " 'irregularities',\n",
       " 'took',\n",
       " 'place',\n",
       " 'further',\n",
       " 'in',\n",
       " 'city',\n",
       " 'executive',\n",
       " 'committee',\n",
       " 'which',\n",
       " 'had',\n",
       " 'charge',\n",
       " 'deserves',\n",
       " 'praise',\n",
       " 'and',\n",
       " 'thanks',\n",
       " 'atlanta',\n",
       " 'for',\n",
       " 'manner',\n",
       " 'was',\n",
       " 'conducted',\n",
       " 'term',\n",
       " 'been',\n",
       " 'charged',\n",
       " 'by',\n",
       " 'superior',\n",
       " 'court',\n",
       " 'judge',\n",
       " 'to',\n",
       " 'investigate',\n",
       " 'reports',\n",
       " 'possible',\n",
       " 'won',\n",
       " 'ivan',\n",
       " 'allen',\n",
       " 'only',\n",
       " 'a',\n",
       " 'relative',\n",
       " 'handful',\n",
       " 'such',\n",
       " 'received',\n",
       " 'considering',\n",
       " 'widespread',\n",
       " 'interest',\n",
       " 'number',\n",
       " 'voters',\n",
       " 'size',\n",
       " 'this',\n",
       " 'it',\n",
       " 'did',\n",
       " 'find',\n",
       " 'many',\n",
       " 'registration',\n",
       " 'laws',\n",
       " 'are',\n",
       " 'outmoded',\n",
       " 'or',\n",
       " 'inadequate',\n",
       " 'often',\n",
       " 'ambiguous',\n",
       " 'recommended',\n",
       " 'legislators',\n",
       " 'act',\n",
       " 'have',\n",
       " 'these',\n",
       " 'studied',\n",
       " 'revised',\n",
       " 'end',\n",
       " 'modernizing',\n",
       " 'improving',\n",
       " 'them',\n",
       " 'commented',\n",
       " 'on',\n",
       " 'other',\n",
       " 'topics',\n",
       " 'among',\n",
       " 'purchasing',\n",
       " 'departments',\n",
       " 'well',\n",
       " 'operated',\n",
       " 'follow',\n",
       " 'generally',\n",
       " 'accepted',\n",
       " 'practices',\n",
       " 'best',\n",
       " 'both',\n",
       " 'governments',\n",
       " 'merger',\n",
       " 'proposed',\n",
       " 'however',\n",
       " 'believes',\n",
       " 'two',\n",
       " 'offices',\n",
       " 'should',\n",
       " 'be',\n",
       " 'combined',\n",
       " 'achieve',\n",
       " 'greater',\n",
       " 'efficiency',\n",
       " 'reduce',\n",
       " 'cost',\n",
       " 'administration',\n",
       " 'department',\n",
       " 'is',\n",
       " 'lacking',\n",
       " 'experienced',\n",
       " 'clerical',\n",
       " 'personnel',\n",
       " 'as',\n",
       " 'result',\n",
       " 'policies',\n",
       " 'urged',\n",
       " 'take',\n",
       " 'steps',\n",
       " 'remedy',\n",
       " 'problem',\n",
       " 'implementation',\n",
       " 'automobile',\n",
       " 'title',\n",
       " 'law',\n",
       " 'also',\n",
       " 'outgoing',\n",
       " 'next',\n",
       " 'legislature',\n",
       " 'provide',\n",
       " 'enabling',\n",
       " 'funds',\n",
       " 'effective',\n",
       " 'date',\n",
       " 'so',\n",
       " 'orderly',\n",
       " 'may',\n",
       " 'effected',\n",
       " 'at',\n",
       " 'state',\n",
       " 'welfare',\n",
       " 'handling',\n",
       " 'federal',\n",
       " 'granted',\n",
       " 'child',\n",
       " 'services',\n",
       " 'foster',\n",
       " 'homes',\n",
       " 'one',\n",
       " 'major',\n",
       " 'items',\n",
       " 'general',\n",
       " 'assistance',\n",
       " 'program',\n",
       " 'but',\n",
       " 'has',\n",
       " 'seen',\n",
       " 'fit',\n",
       " 'distribute',\n",
       " 'through',\n",
       " 'all',\n",
       " 'counties',\n",
       " 'with',\n",
       " 'exception',\n",
       " 'receives',\n",
       " 'none',\n",
       " 'money',\n",
       " 'jurors',\n",
       " 'they',\n",
       " 'realize',\n",
       " 'proportionate',\n",
       " 'distribution',\n",
       " 'might',\n",
       " 'our',\n",
       " 'less',\n",
       " 'populous',\n",
       " 'nevertheless',\n",
       " 'we',\n",
       " 'feel',\n",
       " 'future',\n",
       " 'receive',\n",
       " 'some',\n",
       " 'portion',\n",
       " 'available',\n",
       " 'failure',\n",
       " 'do',\n",
       " 'will',\n",
       " 'continue',\n",
       " 'burden',\n",
       " 'taxpayers',\n",
       " 'under',\n",
       " 'fire',\n",
       " 'its',\n",
       " 'appointment',\n",
       " 'guardians',\n",
       " 'administrators',\n",
       " 'awarding',\n",
       " 'fees',\n",
       " 'compensation',\n",
       " 'wards',\n",
       " 'protected',\n",
       " 'found',\n",
       " 'incorporated',\n",
       " 'into',\n",
       " 'operating',\n",
       " 'procedures',\n",
       " 'recommendations',\n",
       " 'previous',\n",
       " 'bar',\n",
       " 'association',\n",
       " 'interim',\n",
       " 'citizens',\n",
       " 'actions',\n",
       " 'serve',\n",
       " 'protect',\n",
       " 'fact',\n",
       " 'effect',\n",
       " 'from',\n",
       " 'undue',\n",
       " 'costs',\n",
       " 'appointed',\n",
       " 'elected',\n",
       " 'servants',\n",
       " 'criticisms',\n",
       " 'regarding',\n",
       " 'new',\n",
       " 'airport',\n",
       " 'when',\n",
       " 'management',\n",
       " 'takes',\n",
       " 'eliminate',\n",
       " 'political',\n",
       " 'influences',\n",
       " 'not',\n",
       " 'elaborate',\n",
       " 'added',\n",
       " 'there',\n",
       " 'periodic',\n",
       " 'surveillance',\n",
       " 'pricing',\n",
       " 'concessionaires',\n",
       " 'purpose',\n",
       " 'keeping',\n",
       " 'prices',\n",
       " 'reasonable',\n",
       " 'ask',\n",
       " 'jail',\n",
       " 'deputies',\n",
       " 'matters',\n",
       " 'four',\n",
       " 'additional',\n",
       " 'employed',\n",
       " 'doctor',\n",
       " 'medical',\n",
       " 'night',\n",
       " 'weekend',\n",
       " 'duty',\n",
       " 'work',\n",
       " 'officials',\n",
       " 'pass',\n",
       " 'legislation',\n",
       " 'permit',\n",
       " 'establishment',\n",
       " 'fair',\n",
       " 'equitable',\n",
       " 'pension',\n",
       " 'plan',\n",
       " 'employes',\n",
       " 'praised',\n",
       " 'operation',\n",
       " 'police',\n",
       " 'tax',\n",
       " 'office',\n",
       " 'prison',\n",
       " 'farms',\n",
       " 'grady',\n",
       " 'hospital',\n",
       " 'health',\n",
       " 'mayor',\n",
       " 'william',\n",
       " 'hartsfield',\n",
       " 'filed',\n",
       " 'suit',\n",
       " 'divorce',\n",
       " 'his',\n",
       " 'wife',\n",
       " 'pearl',\n",
       " 'williams',\n",
       " 'petition',\n",
       " 'mental',\n",
       " 'cruelty',\n",
       " 'couple',\n",
       " 'married',\n",
       " 'son',\n",
       " 'berry',\n",
       " 'daughter',\n",
       " 'griffin',\n",
       " 'attorneys',\n",
       " 'property',\n",
       " 'settlement',\n",
       " 'agreed',\n",
       " 'upon',\n",
       " 'listed',\n",
       " 'occupation',\n",
       " 'attorney',\n",
       " 'age',\n",
       " 'birth',\n",
       " 'lived',\n",
       " 'together',\n",
       " 'man',\n",
       " 'more',\n",
       " 'than',\n",
       " 'year',\n",
       " 'home',\n",
       " 'pelham',\n",
       " 'aj',\n",
       " 'henry',\n",
       " 'brief',\n",
       " 'interlude',\n",
       " 'since',\n",
       " 'career',\n",
       " 'goes',\n",
       " 'back',\n",
       " 'council',\n",
       " 'present',\n",
       " 'he',\n",
       " 'succeeded',\n",
       " 'who',\n",
       " 'became',\n",
       " 'candidate',\n",
       " 'after',\n",
       " 'announced',\n",
       " 'would',\n",
       " 'run',\n",
       " 'georgia',\n",
       " 'republicans',\n",
       " 'getting',\n",
       " 'strong',\n",
       " 'encouragement',\n",
       " 'enter',\n",
       " 'race',\n",
       " 'top',\n",
       " 'official',\n",
       " 'wednesday',\n",
       " 'robert',\n",
       " 'gop',\n",
       " 'chairman',\n",
       " 'meeting',\n",
       " 'held',\n",
       " 'tuesday',\n",
       " 'blue',\n",
       " 'ridge',\n",
       " 'brought',\n",
       " 'enthusiastic',\n",
       " 'responses',\n",
       " 'audience',\n",
       " 'party',\n",
       " 'james',\n",
       " 'enthusiasm',\n",
       " 'picking',\n",
       " 'up',\n",
       " 'rally',\n",
       " 'savannah',\n",
       " 'newly',\n",
       " 'texas',\n",
       " 'john',\n",
       " 'tower',\n",
       " 'featured',\n",
       " 'speaker',\n",
       " 'warned',\n",
       " 'entering',\n",
       " 'governor',\n",
       " 'force',\n",
       " 'petitions',\n",
       " 'out',\n",
       " 'voting',\n",
       " 'precincts',\n",
       " 'obtain',\n",
       " 'signatures',\n",
       " 'registered',\n",
       " 'despite',\n",
       " 'warning',\n",
       " 'unanimous',\n",
       " 'vote',\n",
       " 'according',\n",
       " 'attended',\n",
       " 'crowd',\n",
       " 'asked',\n",
       " 'whether',\n",
       " 'wanted',\n",
       " 'wait',\n",
       " 'make',\n",
       " 'voted',\n",
       " 'were',\n",
       " 'largest',\n",
       " 'hurdle',\n",
       " 'face',\n",
       " 'says',\n",
       " 'before',\n",
       " 'making',\n",
       " 'first',\n",
       " 'alternative',\n",
       " 'courses',\n",
       " 'must',\n",
       " 'taken',\n",
       " 'five',\n",
       " 'per',\n",
       " 'cent',\n",
       " 'each',\n",
       " 'sign',\n",
       " 'requesting',\n",
       " 'allowed',\n",
       " 'names',\n",
       " 'candidates',\n",
       " 'ballot',\n",
       " 'hold',\n",
       " 'unit',\n",
       " 'system',\n",
       " 'platform',\n",
       " 'sam',\n",
       " 'caldwell',\n",
       " 'highway',\n",
       " 'public',\n",
       " 'relations',\n",
       " 'director',\n",
       " 'resigned',\n",
       " 'garland',\n",
       " 'campaign',\n",
       " 'resignation',\n",
       " 'expected',\n",
       " 'time',\n",
       " 'rob',\n",
       " 'assistant',\n",
       " 'three',\n",
       " 'years',\n",
       " 'gubernatorial',\n",
       " 'starts',\n",
       " 'become',\n",
       " 'coordinator',\n",
       " 'byrd',\n",
       " 'wind',\n",
       " 'session',\n",
       " 'monday',\n",
       " 'head',\n",
       " 'where',\n",
       " 'bond',\n",
       " 'approved',\n",
       " 'shortly',\n",
       " 'adjournment',\n",
       " 'afternoon',\n",
       " 'senate',\n",
       " 'approve',\n",
       " 'study',\n",
       " 'allotted',\n",
       " 'rural',\n",
       " 'urban',\n",
       " 'areas',\n",
       " 'determine',\n",
       " 'what',\n",
       " 'adjustments',\n",
       " 'made',\n",
       " 'vandiver',\n",
       " 'traditional',\n",
       " 'visit',\n",
       " 'chambers',\n",
       " 'toward',\n",
       " 'likely',\n",
       " 'mention',\n",
       " 'million',\n",
       " 'issue',\n",
       " 'earlier',\n",
       " 'priority',\n",
       " 'item',\n",
       " 'construction',\n",
       " 'bonds',\n",
       " 'meanwhile',\n",
       " 'learned',\n",
       " 'very',\n",
       " 'near',\n",
       " 'being',\n",
       " 'ready',\n",
       " 'worth',\n",
       " 'reconstruction',\n",
       " 'go',\n",
       " 'courts',\n",
       " 'friendly',\n",
       " 'test',\n",
       " 'validity',\n",
       " 'then',\n",
       " 'sales',\n",
       " 'begin',\n",
       " 'contracts',\n",
       " 'let',\n",
       " 'repair',\n",
       " 'most',\n",
       " 'heavily',\n",
       " 'traveled',\n",
       " 'highways',\n",
       " 'source',\n",
       " 'roads',\n",
       " 'authority',\n",
       " 'road',\n",
       " 'revolving',\n",
       " 'fund',\n",
       " 'apparently',\n",
       " 'intends',\n",
       " 'issued',\n",
       " 'every',\n",
       " 'old',\n",
       " 'ones',\n",
       " 'paid',\n",
       " 'off',\n",
       " 'authorities',\n",
       " 'opened',\n",
       " 'battle',\n",
       " 'against',\n",
       " 'issuance',\n",
       " 'marvin',\n",
       " 'told',\n",
       " 'constitution',\n",
       " 'consulted',\n",
       " 'yet',\n",
       " 'about',\n",
       " 'plans',\n",
       " 'offer',\n",
       " 'resolution',\n",
       " 'house',\n",
       " 'action',\n",
       " 'itself',\n",
       " 'day',\n",
       " 'increase',\n",
       " 'expense',\n",
       " 'allowances',\n",
       " 'sunday',\n",
       " 'research',\n",
       " 'done',\n",
       " 'can',\n",
       " 'repealed',\n",
       " 'outright',\n",
       " 'notice',\n",
       " 'given',\n",
       " 'reconsideration',\n",
       " 'sought',\n",
       " 'while',\n",
       " 'emphasizing',\n",
       " 'technical',\n",
       " 'details',\n",
       " 'fully',\n",
       " 'worked',\n",
       " 'seek',\n",
       " 'set',\n",
       " 'aside',\n",
       " 'privilege',\n",
       " 'similar',\n",
       " 'passed',\n",
       " 'word',\n",
       " 'offered',\n",
       " 'pointed',\n",
       " 'last',\n",
       " 'november',\n",
       " 'rejected',\n",
       " 'constitutional',\n",
       " 'amendment',\n",
       " 'allow',\n",
       " 'pay',\n",
       " 'raises',\n",
       " 'sessions',\n",
       " 'veteran',\n",
       " 'jackson',\n",
       " 'legislator',\n",
       " 'aid',\n",
       " 'education',\n",
       " 'something',\n",
       " 'consistently',\n",
       " 'opposed',\n",
       " 'past',\n",
       " 'barber',\n",
       " 'commerce',\n",
       " 'asking',\n",
       " 'endorse',\n",
       " 'increased',\n",
       " 'support',\n",
       " 'provided',\n",
       " 'expended',\n",
       " 'members',\n",
       " 'congressional',\n",
       " 'delegation',\n",
       " 'washington',\n",
       " 'like',\n",
       " 'see',\n",
       " 'congressmen',\n",
       " 'specifically',\n",
       " 'him',\n",
       " 'tossed',\n",
       " 'formally',\n",
       " 'read',\n",
       " 'event',\n",
       " 'congress',\n",
       " 'does',\n",
       " 'board',\n",
       " 'directed',\n",
       " 'give',\n",
       " 'teacher',\n",
       " 'long',\n",
       " 'hot',\n",
       " 'controversy',\n",
       " 'miller',\n",
       " 'school',\n",
       " 'superintendent',\n",
       " 'policeman',\n",
       " 'put',\n",
       " 'coolest',\n",
       " 'i',\n",
       " 'ever',\n",
       " 'saw',\n",
       " 'harry',\n",
       " 'davis',\n",
       " 'agriculture',\n",
       " 'defeated',\n",
       " 'felix',\n",
       " 'bush',\n",
       " 'principal',\n",
       " 'democratic',\n",
       " 'votes',\n",
       " 'got',\n",
       " 'ordinary',\n",
       " 'carey',\n",
       " 'armed',\n",
       " 'pistol',\n",
       " 'stood',\n",
       " 'polls',\n",
       " 'insure',\n",
       " 'order',\n",
       " 'tom',\n",
       " 'just',\n",
       " 'church',\n",
       " 'smell',\n",
       " 'drop',\n",
       " 'liquor',\n",
       " 'bit',\n",
       " 'trouble',\n",
       " 'leading',\n",
       " 'quiet',\n",
       " 'marked',\n",
       " 'anonymous',\n",
       " 'midnight',\n",
       " 'phone',\n",
       " 'calls',\n",
       " 'veiled',\n",
       " 'threats',\n",
       " 'violence',\n",
       " 'former',\n",
       " 'george',\n",
       " 'shot',\n",
       " 'himself',\n",
       " 'death',\n",
       " 'march',\n",
       " 'days',\n",
       " 'post',\n",
       " 'dispute',\n",
       " 'during',\n",
       " 'reportedly',\n",
       " 'telephone',\n",
       " 'too',\n",
       " 'subjected',\n",
       " 'soon',\n",
       " 'scheduled',\n",
       " 'local',\n",
       " 'feared',\n",
       " 'carry',\n",
       " 'gun',\n",
       " 'promised',\n",
       " 'sheriff',\n",
       " 'good',\n",
       " 'promise',\n",
       " 'everything',\n",
       " 'went',\n",
       " 'real',\n",
       " 'smooth',\n",
       " 'austin',\n",
       " 'approval',\n",
       " 'price',\n",
       " 'abandoned',\n",
       " 'seemed',\n",
       " 'certain',\n",
       " 'thursday',\n",
       " 'adamant',\n",
       " 'protests',\n",
       " 'bankers',\n",
       " 'daniel',\n",
       " 'personally',\n",
       " 'led',\n",
       " 'fight',\n",
       " 'measure',\n",
       " 'watered',\n",
       " 'down',\n",
       " 'considerably',\n",
       " 'rejection',\n",
       " 'hearing',\n",
       " 'revenue',\n",
       " 'taxation',\n",
       " 'rules',\n",
       " 'automatically',\n",
       " 'subcommittee',\n",
       " 'week',\n",
       " 'questions',\n",
       " 'appearing',\n",
       " 'witnesses',\n",
       " 'left',\n",
       " 'little',\n",
       " 'doubt',\n",
       " 'recommend',\n",
       " 'passage',\n",
       " 'termed',\n",
       " 'extremely',\n",
       " 'conservative',\n",
       " 'estimate',\n",
       " 'produce',\n",
       " 'dollars',\n",
       " 'help',\n",
       " 'anticipated',\n",
       " 'deficit',\n",
       " 'current',\n",
       " 'fiscal',\n",
       " 'merely',\n",
       " 'means',\n",
       " 'enforcing',\n",
       " 'books',\n",
       " 'republic',\n",
       " 'permits',\n",
       " 'over',\n",
       " 'bank',\n",
       " 'accounts',\n",
       " 'stocks',\n",
       " 'personal',\n",
       " 'persons',\n",
       " 'missing',\n",
       " 'seven',\n",
       " 'bill',\n",
       " 'drafted',\n",
       " 'banks',\n",
       " 'insurance',\n",
       " 'firms',\n",
       " 'pipeline',\n",
       " 'companies',\n",
       " 'corporations',\n",
       " 'report',\n",
       " 'treasurer',\n",
       " 'cannot',\n",
       " 'enforced',\n",
       " 'now',\n",
       " 'because',\n",
       " 'almost',\n",
       " 'impossible',\n",
       " 'locate',\n",
       " 'declared',\n",
       " 'dewey',\n",
       " 'lawrence',\n",
       " 'lawyer',\n",
       " 'representing',\n",
       " 'sounded',\n",
       " 'opposition',\n",
       " 'keynote',\n",
       " 'violate',\n",
       " 'their',\n",
       " 'contractual',\n",
       " 'obligations',\n",
       " 'undermine',\n",
       " 'confidence',\n",
       " 'customers',\n",
       " 'if',\n",
       " 'you',\n",
       " 'destroy',\n",
       " 'economy',\n",
       " 'circulation',\n",
       " 'millions',\n",
       " 'charles',\n",
       " 'hughes',\n",
       " 'sherman',\n",
       " 'sponsor',\n",
       " 'enact',\n",
       " 'amount',\n",
       " 'gift',\n",
       " 'pockets',\n",
       " 'contention',\n",
       " 'denied',\n",
       " 'several',\n",
       " 'including',\n",
       " 'scott',\n",
       " 'hudson',\n",
       " 'jones',\n",
       " 'houston',\n",
       " 'howard',\n",
       " 'cox',\n",
       " 'argued',\n",
       " 'probably',\n",
       " 'impair',\n",
       " 'complained',\n",
       " 'enough',\n",
       " 'introduced',\n",
       " 'senators',\n",
       " 'unanimously',\n",
       " 'parkhouse',\n",
       " 'dallas',\n",
       " 'authorizing',\n",
       " 'schools',\n",
       " 'deaf',\n",
       " 'designed',\n",
       " 'special',\n",
       " 'schooling',\n",
       " 'students',\n",
       " 'scholastic',\n",
       " 'reduced',\n",
       " 'debate',\n",
       " 'authorize',\n",
       " 'agency',\n",
       " 'establish',\n",
       " 'population',\n",
       " 'require',\n",
       " 'children',\n",
       " 'between',\n",
       " 'attend',\n",
       " 'permitting',\n",
       " 'older',\n",
       " 'residential',\n",
       " 'here',\n",
       " 'budget',\n",
       " 'harris',\n",
       " 'el',\n",
       " 'paso',\n",
       " 'savings',\n",
       " 'yearly',\n",
       " 'capital',\n",
       " 'absorbed',\n",
       " 'tea',\n",
       " 'estimated',\n",
       " 'saving',\n",
       " 'coming',\n",
       " 'live',\n",
       " 'get',\n",
       " 'hear',\n",
       " 'horse',\n",
       " 'red',\n",
       " 'joe',\n",
       " 'ratcliff',\n",
       " 'still',\n",
       " 'expects',\n",
       " 'tell',\n",
       " 'folks',\n",
       " 'why',\n",
       " 'thinks',\n",
       " 'pro',\n",
       " 'letters',\n",
       " 'con',\n",
       " 'betting',\n",
       " 'believe',\n",
       " 'people',\n",
       " 'better',\n",
       " 'informed',\n",
       " 'question',\n",
       " 'oppose',\n",
       " 'willing',\n",
       " 'stake',\n",
       " 'my',\n",
       " 'san',\n",
       " 'antonio',\n",
       " 'advocacy',\n",
       " 'ponies',\n",
       " 'heard',\n",
       " 'option',\n",
       " 'proposal',\n",
       " 'favorable',\n",
       " 'although',\n",
       " 'faces',\n",
       " 'hard',\n",
       " 'later',\n",
       " 'finally',\n",
       " 'sent',\n",
       " 'extending',\n",
       " 'planning',\n",
       " 'cities',\n",
       " 'quickly',\n",
       " 'whipped',\n",
       " 'meager',\n",
       " 'fare',\n",
       " 'bills',\n",
       " 'committees',\n",
       " 'passing',\n",
       " 'calendar',\n",
       " 'acts',\n",
       " 'districts',\n",
       " 'another',\n",
       " 'enlarged',\n",
       " 'beaumont',\n",
       " 'navigation',\n",
       " 'district',\n",
       " 'third',\n",
       " 'amended',\n",
       " 'creation',\n",
       " 'lamar',\n",
       " 'previously',\n",
       " 'adopted',\n",
       " 'without',\n",
       " 'dissent',\n",
       " 'schwartz',\n",
       " 'mentally',\n",
       " 'retarded',\n",
       " 'gulf',\n",
       " 'coast',\n",
       " 'meantime',\n",
       " 'accept',\n",
       " 'gifts',\n",
       " 'site',\n",
       " 'revision',\n",
       " 'louis',\n",
       " 'retailers',\n",
       " 'group',\n",
       " 'miscellaneous',\n",
       " 'excise',\n",
       " 'taxes',\n",
       " 'eliminating',\n",
       " 'requirement',\n",
       " 'return',\n",
       " 'instead',\n",
       " 'certificate',\n",
       " 'correctness',\n",
       " 'violation',\n",
       " 'penalty',\n",
       " 'plus',\n",
       " 'fine',\n",
       " 'series',\n",
       " 'league',\n",
       " 'paris',\n",
       " 'relieve',\n",
       " 'estate',\n",
       " 'brokers',\n",
       " 'own',\n",
       " 'annual',\n",
       " 'licensing',\n",
       " 'fee',\n",
       " 'license',\n",
       " 'natural',\n",
       " 'gas',\n",
       " 'utility',\n",
       " 'right',\n",
       " 'eminent',\n",
       " 'domain',\n",
       " 'frank',\n",
       " 'owen',\n",
       " 'acquire',\n",
       " 'sites',\n",
       " 'underground',\n",
       " 'storage',\n",
       " 'reservoirs',\n",
       " 'marshall',\n",
       " 'commission',\n",
       " 'suggested',\n",
       " 'fill',\n",
       " 'need',\n",
       " 'costly',\n",
       " 'elections',\n",
       " 'selected',\n",
       " 'composed',\n",
       " 'lieutenant',\n",
       " 'chief',\n",
       " 'justice',\n",
       " 'supreme',\n",
       " 'representatives',\n",
       " 'decided',\n",
       " 'taking',\n",
       " 'poll',\n",
       " 'kind',\n",
       " 'texans',\n",
       " 'prefer',\n",
       " 'adverse',\n",
       " 'kept',\n",
       " 'affairs',\n",
       " 'april',\n",
       " 'senator',\n",
       " 'roberts',\n",
       " 'idea',\n",
       " 'delay',\n",
       " 'kill',\n",
       " 'west',\n",
       " 'texan',\n",
       " 'reported',\n",
       " 'gotten',\n",
       " 'final',\n",
       " ...]"
      ]
     },
     "execution_count": 67,
     "metadata": {},
     "output_type": "execute_result"
    }
   ],
   "source": [
    "brown_corpus_words_by_min_count(3)"
   ]
  },
  {
   "cell_type": "markdown",
   "metadata": {},
   "source": [
    "### Exercise 16)"
   ]
  },
  {
   "cell_type": "code",
   "execution_count": null,
   "metadata": {},
   "outputs": [],
   "source": []
  },
  {
   "cell_type": "markdown",
   "metadata": {},
   "source": [
    "### Exercise 17)"
   ]
  },
  {
   "cell_type": "code",
   "execution_count": 76,
   "metadata": {
    "scrolled": true
   },
   "outputs": [
    {
     "data": {
      "text/plain": [
       "[('would', 79),\n",
       " ('could', 49),\n",
       " ('said', 41),\n",
       " ('one', 36),\n",
       " ('time', 30),\n",
       " ('Ekstrohm', 26),\n",
       " ('Helva', 26),\n",
       " ('Mercer', 26),\n",
       " ('long', 25),\n",
       " ('like', 25),\n",
       " ('know', 25),\n",
       " ('Hal', 23),\n",
       " ('Mike', 20),\n",
       " ('people', 20),\n",
       " ('ship', 20),\n",
       " ('back', 19),\n",
       " ('Jack', 18),\n",
       " ('man', 17),\n",
       " ('make', 16),\n",
       " ('years', 16),\n",
       " ('Earth', 15),\n",
       " ('made', 15),\n",
       " ('never', 15),\n",
       " ('mind', 15),\n",
       " ('see', 15),\n",
       " ('first', 15),\n",
       " ('course', 15),\n",
       " ('head', 15),\n",
       " ('much', 14),\n",
       " ('Ryan', 14),\n",
       " ('without', 13),\n",
       " ('going', 13),\n",
       " ('felt', 13),\n",
       " ('light', 13),\n",
       " ('little', 13),\n",
       " ('way', 13),\n",
       " ('good', 13),\n",
       " ('get', 12),\n",
       " ('might', 12),\n",
       " ('knew', 11),\n",
       " ('thought', 11),\n",
       " ('turned', 11),\n",
       " ('among', 11),\n",
       " ('take', 11),\n",
       " ('still', 11),\n",
       " ('well', 11),\n",
       " ('got', 11),\n",
       " ('Hesperus', 11),\n",
       " ('ever', 10),\n",
       " ('many', 10)]"
      ]
     },
     "execution_count": 76,
     "metadata": {},
     "output_type": "execute_result"
    }
   ],
   "source": [
    "from nltk.corpus import stopwords\n",
    "\n",
    "def top_non_stop_words(doc, language, num=50):\n",
    "    stop_words = set(stopwords.words(language))\n",
    "    freq = FreqDist(word for word in doc if word.isalpha() and word.lower() not in stop_words)\n",
    "    return freq.most_common(num)\n",
    "\n",
    "top_non_stop_words(brown.words(categories=['science_fiction']), 'english')"
   ]
  },
  {
   "cell_type": "code",
   "execution_count": null,
   "metadata": {},
   "outputs": [],
   "source": []
  },
  {
   "cell_type": "markdown",
   "metadata": {},
   "source": [
    "### Exercise 18)"
   ]
  },
  {
   "cell_type": "code",
   "execution_count": null,
   "metadata": {},
   "outputs": [],
   "source": []
  },
  {
   "cell_type": "markdown",
   "metadata": {},
   "source": [
    "### Exercise 19)"
   ]
  },
  {
   "cell_type": "code",
   "execution_count": null,
   "metadata": {},
   "outputs": [],
   "source": []
  },
  {
   "cell_type": "markdown",
   "metadata": {},
   "source": [
    "### Exercise 20)"
   ]
  },
  {
   "cell_type": "code",
   "execution_count": null,
   "metadata": {},
   "outputs": [],
   "source": []
  },
  {
   "cell_type": "markdown",
   "metadata": {},
   "source": [
    "### Exercise 21)"
   ]
  },
  {
   "cell_type": "code",
   "execution_count": null,
   "metadata": {},
   "outputs": [],
   "source": []
  },
  {
   "cell_type": "markdown",
   "metadata": {},
   "source": [
    "### Exercise 22)"
   ]
  },
  {
   "cell_type": "code",
   "execution_count": null,
   "metadata": {},
   "outputs": [],
   "source": []
  },
  {
   "cell_type": "markdown",
   "metadata": {},
   "source": [
    "### Exercise 23)"
   ]
  },
  {
   "cell_type": "code",
   "execution_count": null,
   "metadata": {},
   "outputs": [],
   "source": []
  },
  {
   "cell_type": "markdown",
   "metadata": {},
   "source": [
    "### Exercise 24)"
   ]
  },
  {
   "cell_type": "code",
   "execution_count": null,
   "metadata": {},
   "outputs": [],
   "source": []
  },
  {
   "cell_type": "markdown",
   "metadata": {},
   "source": [
    "### Exercise 26)"
   ]
  },
  {
   "cell_type": "code",
   "execution_count": null,
   "metadata": {},
   "outputs": [],
   "source": []
  },
  {
   "cell_type": "markdown",
   "metadata": {},
   "source": [
    "### Exercise 27)"
   ]
  },
  {
   "cell_type": "code",
   "execution_count": null,
   "metadata": {},
   "outputs": [],
   "source": []
  },
  {
   "cell_type": "markdown",
   "metadata": {},
   "source": [
    "### Exercise 28)"
   ]
  },
  {
   "cell_type": "code",
   "execution_count": null,
   "metadata": {},
   "outputs": [],
   "source": []
  }
 ],
 "metadata": {
  "kernelspec": {
   "display_name": "Python 3",
   "language": "python",
   "name": "python3"
  },
  "language_info": {
   "codemirror_mode": {
    "name": "ipython",
    "version": 3
   },
   "file_extension": ".py",
   "mimetype": "text/x-python",
   "name": "python",
   "nbconvert_exporter": "python",
   "pygments_lexer": "ipython3",
   "version": "3.6.9"
  }
 },
 "nbformat": 4,
 "nbformat_minor": 2
}
